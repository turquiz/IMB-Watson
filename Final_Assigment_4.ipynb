{
    "cells": [
        {
            "cell_type": "markdown",
            "id": "1a4572a7-337d-4da8-933e-77d85ab02a73",
            "metadata": {},
            "source": "<p style=\"text-align:center\">\n    <a href=\"https://skills.network/?utm_medium=Exinfluencer&utm_source=Exinfluencer&utm_content=000026UJ&utm_term=10006555&utm_id=NA-SkillsNetwork-Channel-SkillsNetworkCoursesIBMDS0321ENSkillsNetwork865-2023-01-01\">\n    <img src=\"https://cf-courses-data.s3.us.cloud-object-storage.appdomain.cloud/assets/logos/SN_web_lightmode.png\" width=\"200\" alt=\"Skills Network Logo\"  />\n    </a>\n</p>\n\n<h1 align=center><font size = 5>Assignment: SQL Notebook for Peer Assignment</font></h1>\n\nEstimated time needed: **60** minutes.\n\n## Introduction\nUsing this Python notebook you will:\n\n1.  Understand the Spacex DataSet\n2.  Load the dataset  into the corresponding table in a Db2 database\n3.  Execute SQL queries to answer assignment questions \n"
        },
        {
            "cell_type": "markdown",
            "id": "f0f042ef-27c0-4a64-94f5-b5f6ff99fa29",
            "metadata": {},
            "source": "## Overview of the DataSet\n\nSpaceX has gained worldwide attention for a series of historic milestones. \n\nIt is the only private company ever to return a spacecraft from low-earth orbit, which it first accomplished in December 2010.\nSpaceX advertises Falcon 9 rocket launches on its website with a cost of 62 million dollars wheras other providers cost upward of 165 million dollars each, much of the savings is because Space X can reuse the first stage. \n\n\nTherefore if we can determine if the first stage will land, we can determine the cost of a launch. \n\nThis information can be used if an alternate company wants to bid against SpaceX for a rocket launch.\n\nThis dataset includes a record for each payload carried during a SpaceX mission into outer space.\n"
        },
        {
            "cell_type": "markdown",
            "id": "9df33158-7234-4d15-83f0-acab745b6b06",
            "metadata": {},
            "source": "### Download the datasets\n\nThis assignment requires you to load the spacex dataset.\n\nIn many cases the dataset to be analyzed is available as a .CSV (comma separated values) file, perhaps on the internet. Click on the link below to download and save the dataset (.CSV file):\n\n <a href=\"https://cf-courses-data.s3.us.cloud-object-storage.appdomain.cloud/IBM-DS0321EN-SkillsNetwork/labs/module_2/data/Spacex.csv\" target=\"_blank\">Spacex DataSet</a>\n\n"
        },
        {
            "cell_type": "markdown",
            "id": "7e594554-fe5c-4346-a1f3-38fb3e5c6126",
            "metadata": {},
            "source": "**Navigate to the Go to UI screen** \n\n* Refer to this insruction in this <a href=\"https://cf-courses-data.s3.us.cloud-object-storage.appdomain.cloud/IBMDeveloperSkillsNetwork-DB0201EN-SkillsNetwork/labs/Labs_Coursera_V5/labs/Lab%20-%20Sign%20up%20for%20IBM%20Cloud%20-%20Create%20Db2%20service%20instance%20-%20Get%20started%20with%20the%20Db2%20console/instructional-labs.md.html\">link</a> for viewing  the   Go to UI screen. \n\n\n* Later click on **Data link(below SQL)**  in the Go to UI screen  and click on **Load Data** tab.  \n\n\n\n* Later browse for the downloaded spacex file.\n\n\n\n<img src=\"https://cf-courses-data.s3.us.cloud-object-storage.appdomain.cloud/IBM-DS0321EN-SkillsNetwork/labs/module_2/images/browsefile.png\" width=\"800\">\n\n\n* Once done select the schema andload the file.  \n\n\n <img src=\"https://cf-courses-data.s3.us.cloud-object-storage.appdomain.cloud/IBM-DS0321EN-SkillsNetwork/labs/module_2/images/spacexload3.png\" width=\"800\">\n \n"
        },
        {
            "cell_type": "markdown",
            "id": "10e0e2ed-3414-4c28-ad6e-7e21c1863683",
            "metadata": {},
            "source": "\nIf you are facing a problem in uploading the dataset (which is a csv file), you can follow the steps below to upload the .sql file instead of the CSV file:\n\n* Download the file <a href=\"https://cf-courses-data.s3.us.cloud-object-storage.appdomain.cloud/IBM-DS0321EN-SkillsNetwork/datasets/Spacex%20.sql\">Spacex.sql</a>\n\n* Later click on **SQL** in the  **Go to UI Screen**.\n\n* Use the **From file** option to browse for the **SQL** file and upload it.\n\n<img src=\"https://cf-courses-data.s3.us.cloud-object-storage.appdomain.cloud/IBM-DS0321EN-SkillsNetwork/labs/module_2/images/sqlfile.png\">\n\n* Once you upload the script,you can use the **Run All** option to run all the queries to insert the data.\n\n<img src=\"https://cf-courses-data.s3.us.cloud-object-storage.appdomain.cloud/IBM-DS0321EN-SkillsNetwork/labs/module_2/images/runall.png\">\n\n    \n"
        },
        {
            "cell_type": "code",
            "execution_count": 10,
            "id": "cfa51ac3-773f-464f-8613-0f40371d1237",
            "metadata": {},
            "outputs": [
                {
                    "name": "stdout",
                    "output_type": "stream",
                    "text": "The sql extension is already loaded. To reload it, use:\n  %reload_ext sql\n"
                }
            ],
            "source": "%load_ext sql"
        },
        {
            "cell_type": "code",
            "execution_count": 11,
            "metadata": {},
            "outputs": [],
            "source": "import csv, sqlite3\n\ncon = sqlite3.connect(\"my_data1.db\")\ncur = con.cursor()"
        },
        {
            "cell_type": "code",
            "execution_count": 12,
            "metadata": {},
            "outputs": [],
            "source": "!pip install -q pandas==1.1.5"
        },
        {
            "cell_type": "code",
            "execution_count": 13,
            "metadata": {},
            "outputs": [],
            "source": "%sql sqlite:///my_data1.db"
        },
        {
            "cell_type": "code",
            "execution_count": 14,
            "metadata": {},
            "outputs": [
                {
                    "data": {
                        "text/plain": "101"
                    },
                    "execution_count": 14,
                    "metadata": {},
                    "output_type": "execute_result"
                }
            ],
            "source": "import pandas as pd\ndf = pd.read_csv(\"https://cf-courses-data.s3.us.cloud-object-storage.appdomain.cloud/IBM-DS0321EN-SkillsNetwork/labs/module_2/data/Spacex.csv\")\ndf.to_sql(\"SPACEXTBL\", con, if_exists='replace', index=False,method=\"multi\")"
        },
        {
            "cell_type": "markdown",
            "id": "b0eba71f-c487-4645-a9db-b38e3de859bd",
            "metadata": {},
            "source": "## Tasks\n\nNow write and execute SQL queries to solve the assignment tasks.\n\n### Task 1\n\n\n\n\n##### Display the names of the unique launch sites  in the space mission\n"
        },
        {
            "cell_type": "code",
            "execution_count": 15,
            "id": "f31edd45-b6bb-4b6b-b0e8-7f5abee8c30a",
            "metadata": {},
            "outputs": [
                {
                    "name": "stdout",
                    "output_type": "stream",
                    "text": " * sqlite:///my_data1.db\nDone.\n"
                },
                {
                    "data": {
                        "text/html": "<table>\n    <tr>\n        <th>Launch_Sites</th>\n    </tr>\n    <tr>\n        <td>CCAFS LC-40</td>\n    </tr>\n    <tr>\n        <td>VAFB SLC-4E</td>\n    </tr>\n    <tr>\n        <td>KSC LC-39A</td>\n    </tr>\n    <tr>\n        <td>CCAFS SLC-40</td>\n    </tr>\n</table>",
                        "text/plain": "[('CCAFS LC-40',), ('VAFB SLC-4E',), ('KSC LC-39A',), ('CCAFS SLC-40',)]"
                    },
                    "execution_count": 15,
                    "metadata": {},
                    "output_type": "execute_result"
                }
            ],
            "source": "%sql SELECT DISTINCT LAUNCH_SITE as \"Launch_Sites\" FROM SPACEXTBL;"
        },
        {
            "cell_type": "markdown",
            "id": "3dcd6095-ce1e-47fe-b980-82ec5c94868b",
            "metadata": {},
            "source": "\n### Task 2\n\n\n#####  Display 5 records where launch sites begin with the string 'CCA' \n"
        },
        {
            "cell_type": "code",
            "execution_count": 16,
            "id": "546fb108-e3e5-4cd0-85c4-59d7b1c3de4e",
            "metadata": {},
            "outputs": [
                {
                    "name": "stdout",
                    "output_type": "stream",
                    "text": " * sqlite:///my_data1.db\nDone.\n"
                },
                {
                    "data": {
                        "text/html": "<table>\n    <tr>\n        <th>Date</th>\n        <th>Time (UTC)</th>\n        <th>Booster_Version</th>\n        <th>Launch_Site</th>\n        <th>Payload</th>\n        <th>PAYLOAD_MASS__KG_</th>\n        <th>Orbit</th>\n        <th>Customer</th>\n        <th>Mission_Outcome</th>\n        <th>Landing _Outcome</th>\n    </tr>\n    <tr>\n        <td>04-06-2010</td>\n        <td>18:45:00</td>\n        <td>F9 v1.0  B0003</td>\n        <td>CCAFS LC-40</td>\n        <td>Dragon Spacecraft Qualification Unit</td>\n        <td>0</td>\n        <td>LEO</td>\n        <td>SpaceX</td>\n        <td>Success</td>\n        <td>Failure (parachute)</td>\n    </tr>\n    <tr>\n        <td>08-12-2010</td>\n        <td>15:43:00</td>\n        <td>F9 v1.0  B0004</td>\n        <td>CCAFS LC-40</td>\n        <td>Dragon demo flight C1, two CubeSats, barrel of Brouere cheese</td>\n        <td>0</td>\n        <td>LEO (ISS)</td>\n        <td>NASA (COTS) NRO</td>\n        <td>Success</td>\n        <td>Failure (parachute)</td>\n    </tr>\n    <tr>\n        <td>22-05-2012</td>\n        <td>07:44:00</td>\n        <td>F9 v1.0  B0005</td>\n        <td>CCAFS LC-40</td>\n        <td>Dragon demo flight C2</td>\n        <td>525</td>\n        <td>LEO (ISS)</td>\n        <td>NASA (COTS)</td>\n        <td>Success</td>\n        <td>No attempt</td>\n    </tr>\n    <tr>\n        <td>08-10-2012</td>\n        <td>00:35:00</td>\n        <td>F9 v1.0  B0006</td>\n        <td>CCAFS LC-40</td>\n        <td>SpaceX CRS-1</td>\n        <td>500</td>\n        <td>LEO (ISS)</td>\n        <td>NASA (CRS)</td>\n        <td>Success</td>\n        <td>No attempt</td>\n    </tr>\n    <tr>\n        <td>01-03-2013</td>\n        <td>15:10:00</td>\n        <td>F9 v1.0  B0007</td>\n        <td>CCAFS LC-40</td>\n        <td>SpaceX CRS-2</td>\n        <td>677</td>\n        <td>LEO (ISS)</td>\n        <td>NASA (CRS)</td>\n        <td>Success</td>\n        <td>No attempt</td>\n    </tr>\n</table>",
                        "text/plain": "[('04-06-2010', '18:45:00', 'F9 v1.0  B0003', 'CCAFS LC-40', 'Dragon Spacecraft Qualification Unit', 0, 'LEO', 'SpaceX', 'Success', 'Failure (parachute)'),\n ('08-12-2010', '15:43:00', 'F9 v1.0  B0004', 'CCAFS LC-40', 'Dragon demo flight C1, two CubeSats, barrel of Brouere cheese', 0, 'LEO (ISS)', 'NASA (COTS) NRO', 'Success', 'Failure (parachute)'),\n ('22-05-2012', '07:44:00', 'F9 v1.0  B0005', 'CCAFS LC-40', 'Dragon demo flight C2', 525, 'LEO (ISS)', 'NASA (COTS)', 'Success', 'No attempt'),\n ('08-10-2012', '00:35:00', 'F9 v1.0  B0006', 'CCAFS LC-40', 'SpaceX CRS-1', 500, 'LEO (ISS)', 'NASA (CRS)', 'Success', 'No attempt'),\n ('01-03-2013', '15:10:00', 'F9 v1.0  B0007', 'CCAFS LC-40', 'SpaceX CRS-2', 677, 'LEO (ISS)', 'NASA (CRS)', 'Success', 'No attempt')]"
                    },
                    "execution_count": 16,
                    "metadata": {},
                    "output_type": "execute_result"
                }
            ],
            "source": "%sql SELECT * FROM 'SPACEXTBL' WHERE Launch_Site LIKE 'CCA%' LIMIT 5;"
        },
        {
            "cell_type": "markdown",
            "id": "c71c6965-cf7d-4d67-ac53-a02bfd9989d1",
            "metadata": {},
            "source": "### Task 3\n\n\n\n\n##### Display the total payload mass carried by boosters launched by NASA (CRS)\n"
        },
        {
            "cell_type": "code",
            "execution_count": 17,
            "id": "880f11e0-4aa3-46cd-a6c6-7b5f483544f0",
            "metadata": {},
            "outputs": [
                {
                    "name": "stdout",
                    "output_type": "stream",
                    "text": " * sqlite:///my_data1.db\nDone.\n"
                },
                {
                    "data": {
                        "text/html": "<table>\n    <tr>\n        <th>Total Payload Mass(Kgs)</th>\n        <th>Customer</th>\n    </tr>\n    <tr>\n        <td>45596</td>\n        <td>NASA (CRS)</td>\n    </tr>\n</table>",
                        "text/plain": "[(45596, 'NASA (CRS)')]"
                    },
                    "execution_count": 17,
                    "metadata": {},
                    "output_type": "execute_result"
                }
            ],
            "source": "%sql SELECT SUM(PAYLOAD_MASS__KG_) as \"Total Payload Mass(Kgs)\", Customer FROM 'SPACEXTBL' WHERE Customer = 'NASA (CRS)';"
        },
        {
            "cell_type": "markdown",
            "id": "390dab14-7504-49dd-80d1-845142f118e9",
            "metadata": {},
            "source": "### Task 4\n\n\n\n\n##### Display average payload mass carried by booster version F9 v1.1\n"
        },
        {
            "cell_type": "code",
            "execution_count": 18,
            "id": "f5556b76-1f7b-4cdf-9802-0ae766b032ff",
            "metadata": {},
            "outputs": [
                {
                    "name": "stdout",
                    "output_type": "stream",
                    "text": " * sqlite:///my_data1.db\nDone.\n"
                },
                {
                    "data": {
                        "text/html": "<table>\n    <tr>\n        <th>Payload Mass Kgs</th>\n        <th>Customer</th>\n        <th>Booster_Version</th>\n    </tr>\n    <tr>\n        <td>2534.6666666666665</td>\n        <td>MDA</td>\n        <td>F9 v1.1  B1003</td>\n    </tr>\n</table>",
                        "text/plain": "[(2534.6666666666665, 'MDA', 'F9 v1.1  B1003')]"
                    },
                    "execution_count": 18,
                    "metadata": {},
                    "output_type": "execute_result"
                }
            ],
            "source": "%sql SELECT AVG(PAYLOAD_MASS__KG_) as \"Payload Mass Kgs\", Customer, Booster_Version FROM 'SPACEXTBL' WHERE Booster_Version LIKE 'F9 v1.1%';"
        },
        {
            "cell_type": "markdown",
            "id": "2e1a7ec4-bbd5-403b-9e8d-2772313b32a7",
            "metadata": {},
            "source": "### Task 5\n\n##### List the date when the first successful landing outcome in ground pad was acheived.\n\n\n_Hint:Use min function_ \n"
        },
        {
            "cell_type": "code",
            "execution_count": 19,
            "id": "1cc1dbe7-cb50-4b40-8db3-b4d4cdee01a5",
            "metadata": {},
            "outputs": [
                {
                    "name": "stdout",
                    "output_type": "stream",
                    "text": " * sqlite:///my_data1.db\nDone.\n"
                },
                {
                    "data": {
                        "text/html": "<table>\n    <tr>\n        <th>MIN(DATE)</th>\n    </tr>\n    <tr>\n        <td>01-05-2017</td>\n    </tr>\n</table>",
                        "text/plain": "[('01-05-2017',)]"
                    },
                    "execution_count": 19,
                    "metadata": {},
                    "output_type": "execute_result"
                }
            ],
            "source": "%sql SELECT MIN(DATE) FROM 'SPACEXTBL' WHERE \"Landing _Outcome\" = \"Success (ground pad)\""
        },
        {
            "cell_type": "markdown",
            "id": "61b1d91a-b208-4beb-80d4-00624dbe46a8",
            "metadata": {},
            "source": "### Task 6\n\n##### List the names of the boosters which have success in drone ship and have payload mass greater than 4000 but less than 6000\n"
        },
        {
            "cell_type": "code",
            "execution_count": 22,
            "id": "521f4752-62e6-402b-ac53-42b8795dc1c4",
            "metadata": {},
            "outputs": [
                {
                    "name": "stdout",
                    "output_type": "stream",
                    "text": " * sqlite:///my_data1.db\nDone.\n"
                },
                {
                    "data": {
                        "text/html": "<table>\n    <tr>\n        <th>Booster_Version</th>\n        <th>Payload</th>\n    </tr>\n    <tr>\n        <td>F9 FT B1022</td>\n        <td>JCSAT-14</td>\n    </tr>\n    <tr>\n        <td>F9 FT B1026</td>\n        <td>JCSAT-16</td>\n    </tr>\n    <tr>\n        <td>F9 FT  B1021.2</td>\n        <td>SES-10</td>\n    </tr>\n    <tr>\n        <td>F9 FT  B1031.2</td>\n        <td>SES-11 / EchoStar 105</td>\n    </tr>\n</table>",
                        "text/plain": "[('F9 FT B1022', 'JCSAT-14'),\n ('F9 FT B1026', 'JCSAT-16'),\n ('F9 FT  B1021.2', 'SES-10'),\n ('F9 FT  B1031.2', 'SES-11 / EchoStar 105')]"
                    },
                    "execution_count": 22,
                    "metadata": {},
                    "output_type": "execute_result"
                }
            ],
            "source": "%sql SELECT DISTINCT Booster_Version, Payload FROM SPACEXTBL WHERE \"Landing _Outcome\" = \"Success (drone ship)\" AND PAYLOAD_MASS__KG_ > 4000 AND PAYLOAD_MASS__KG_ < 6000"
        },
        {
            "cell_type": "markdown",
            "id": "ceccf431-8329-4443-875f-1505a5c2c083",
            "metadata": {},
            "source": "### Task 7\n\n\n\n\n##### List the total number of successful and failure mission outcomes\n"
        },
        {
            "cell_type": "code",
            "execution_count": 23,
            "id": "f0099236-66c8-4369-ae2d-fc5aae522610",
            "metadata": {},
            "outputs": [
                {
                    "name": "stdout",
                    "output_type": "stream",
                    "text": " * sqlite:///my_data1.db\nDone.\n"
                },
                {
                    "data": {
                        "text/html": "<table>\n    <tr>\n        <th>Mission_Outcome</th>\n        <th>Total</th>\n    </tr>\n    <tr>\n        <td>Failure (in flight)</td>\n        <td>1</td>\n    </tr>\n    <tr>\n        <td>Success</td>\n        <td>98</td>\n    </tr>\n    <tr>\n        <td>Success </td>\n        <td>1</td>\n    </tr>\n    <tr>\n        <td>Success (payload status unclear)</td>\n        <td>1</td>\n    </tr>\n</table>",
                        "text/plain": "[('Failure (in flight)', 1),\n ('Success', 98),\n ('Success ', 1),\n ('Success (payload status unclear)', 1)]"
                    },
                    "execution_count": 23,
                    "metadata": {},
                    "output_type": "execute_result"
                }
            ],
            "source": "%sql SELECT \"Mission_Outcome\", COUNT(\"Mission_Outcome\") as Total FROM SPACEXTBL GROUP BY \"Mission_Outcome\";"
        },
        {
            "cell_type": "markdown",
            "id": "cffcca0b-2fb7-45a9-afd6-a2af9edcddfa",
            "metadata": {},
            "source": "### Task 8\n\n\n\n##### List the   names of the booster_versions which have carried the maximum payload mass. Use a subquery\n"
        },
        {
            "cell_type": "code",
            "execution_count": 24,
            "id": "2cb7b593-2192-47e4-99c5-2bc62ca6ebd5",
            "metadata": {},
            "outputs": [
                {
                    "name": "stdout",
                    "output_type": "stream",
                    "text": " * sqlite:///my_data1.db\nDone.\n"
                },
                {
                    "data": {
                        "text/html": "<table>\n    <tr>\n        <th>Booster_Version</th>\n        <th>Payload</th>\n        <th>PAYLOAD_MASS__KG_</th>\n    </tr>\n    <tr>\n        <td>F9 B5 B1048.4</td>\n        <td>Starlink 1 v1.0, SpaceX CRS-19 </td>\n        <td>15600</td>\n    </tr>\n    <tr>\n        <td>F9 B5 B1049.4</td>\n        <td>Starlink 2 v1.0, Crew Dragon in-flight abort test </td>\n        <td>15600</td>\n    </tr>\n    <tr>\n        <td>F9 B5 B1051.3</td>\n        <td>Starlink 3 v1.0, Starlink 4 v1.0 </td>\n        <td>15600</td>\n    </tr>\n    <tr>\n        <td>F9 B5 B1056.4</td>\n        <td>Starlink 4 v1.0, SpaceX CRS-20</td>\n        <td>15600</td>\n    </tr>\n    <tr>\n        <td>F9 B5 B1048.5</td>\n        <td>Starlink 5 v1.0, Starlink 6 v1.0 </td>\n        <td>15600</td>\n    </tr>\n    <tr>\n        <td>F9 B5 B1051.4</td>\n        <td>Starlink 6 v1.0, Crew Dragon Demo-2 </td>\n        <td>15600</td>\n    </tr>\n    <tr>\n        <td>F9 B5 B1049.5</td>\n        <td>Starlink 7 v1.0, Starlink 8 v1.0</td>\n        <td>15600</td>\n    </tr>\n    <tr>\n        <td>F9 B5 B1060.2 </td>\n        <td>Starlink 11 v1.0, Starlink 12 v1.0 </td>\n        <td>15600</td>\n    </tr>\n    <tr>\n        <td>F9 B5 B1058.3 </td>\n        <td>Starlink 12 v1.0, Starlink 13 v1.0 </td>\n        <td>15600</td>\n    </tr>\n    <tr>\n        <td>F9 B5 B1051.6</td>\n        <td>Starlink 13 v1.0, Starlink 14 v1.0 </td>\n        <td>15600</td>\n    </tr>\n    <tr>\n        <td>F9 B5 B1060.3</td>\n        <td>Starlink 14 v1.0, GPS III-04  </td>\n        <td>15600</td>\n    </tr>\n    <tr>\n        <td>F9 B5 B1049.7 </td>\n        <td>Starlink 15 v1.0, SpaceX CRS-21</td>\n        <td>15600</td>\n    </tr>\n</table>",
                        "text/plain": "[('F9 B5 B1048.4', 'Starlink 1 v1.0, SpaceX CRS-19 ', 15600),\n ('F9 B5 B1049.4', 'Starlink 2 v1.0, Crew Dragon in-flight abort test ', 15600),\n ('F9 B5 B1051.3', 'Starlink 3 v1.0, Starlink 4 v1.0 ', 15600),\n ('F9 B5 B1056.4', 'Starlink 4 v1.0, SpaceX CRS-20', 15600),\n ('F9 B5 B1048.5', 'Starlink 5 v1.0, Starlink 6 v1.0 ', 15600),\n ('F9 B5 B1051.4', 'Starlink 6 v1.0, Crew Dragon Demo-2 ', 15600),\n ('F9 B5 B1049.5', 'Starlink 7 v1.0, Starlink 8 v1.0', 15600),\n ('F9 B5 B1060.2 ', 'Starlink 11 v1.0, Starlink 12 v1.0 ', 15600),\n ('F9 B5 B1058.3 ', 'Starlink 12 v1.0, Starlink 13 v1.0 ', 15600),\n ('F9 B5 B1051.6', 'Starlink 13 v1.0, Starlink 14 v1.0 ', 15600),\n ('F9 B5 B1060.3', 'Starlink 14 v1.0, GPS III-04  ', 15600),\n ('F9 B5 B1049.7 ', 'Starlink 15 v1.0, SpaceX CRS-21', 15600)]"
                    },
                    "execution_count": 24,
                    "metadata": {},
                    "output_type": "execute_result"
                }
            ],
            "source": "%sql SELECT \"Booster_Version\",Payload, \"PAYLOAD_MASS__KG_\" FROM SPACEXTBL WHERE \"PAYLOAD_MASS__KG_\" = (SELECT MAX(\"PAYLOAD_MASS__KG_\") FROM SPACEXTBL);"
        },
        {
            "cell_type": "markdown",
            "id": "d81d8af0-6542-4c3b-8713-d2c266a36434",
            "metadata": {},
            "source": "### Task 9\n\n\n##### List the failed landing_outcomes in drone ship, their booster versions, and launch site names for in year 2015\n"
        },
        {
            "cell_type": "code",
            "execution_count": 25,
            "id": "dd00fec0-d4b5-4fb1-8cd7-f95ebf2f1856",
            "metadata": {},
            "outputs": [
                {
                    "name": "stdout",
                    "output_type": "stream",
                    "text": " * sqlite:///my_data1.db\nDone.\n"
                },
                {
                    "data": {
                        "text/html": "<table>\n    <tr>\n        <th>substr(Date,7,4)</th>\n        <th>substr(Date, 4, 2)</th>\n        <th>Booster_Version</th>\n        <th>Launch_Site</th>\n        <th>Payload</th>\n        <th>PAYLOAD_MASS__KG_</th>\n        <th>Mission_Outcome</th>\n        <th>Landing _Outcome</th>\n    </tr>\n    <tr>\n        <td>2015</td>\n        <td>01</td>\n        <td>F9 v1.1 B1012</td>\n        <td>CCAFS LC-40</td>\n        <td>SpaceX CRS-5</td>\n        <td>2395</td>\n        <td>Success</td>\n        <td>Failure (drone ship)</td>\n    </tr>\n    <tr>\n        <td>2015</td>\n        <td>04</td>\n        <td>F9 v1.1 B1015</td>\n        <td>CCAFS LC-40</td>\n        <td>SpaceX CRS-6</td>\n        <td>1898</td>\n        <td>Success</td>\n        <td>Failure (drone ship)</td>\n    </tr>\n</table>",
                        "text/plain": "[('2015', '01', 'F9 v1.1 B1012', 'CCAFS LC-40', 'SpaceX CRS-5', 2395, 'Success', 'Failure (drone ship)'),\n ('2015', '04', 'F9 v1.1 B1015', 'CCAFS LC-40', 'SpaceX CRS-6', 1898, 'Success', 'Failure (drone ship)')]"
                    },
                    "execution_count": 25,
                    "metadata": {},
                    "output_type": "execute_result"
                }
            ],
            "source": "%sql SELECT substr(Date,7,4), substr(Date, 4, 2),\"Booster_Version\", \"Launch_Site\", Payload, \"PAYLOAD_MASS__KG_\", \"Mission_Outcome\", \"Landing _Outcome\" FROM SPACEXTBL WHERE substr(Date,7,4)='2015' AND \"Landing _Outcome\" = 'Failure (drone ship)';\n"
        },
        {
            "cell_type": "markdown",
            "id": "cbfc7853-46d8-4a89-9468-1170274ec555",
            "metadata": {},
            "source": "### Task 10\n\n##### Rank the count of landing outcomes (such as Failure (drone ship) or Success (ground pad)) between the date 2010-06-04 and 2017-03-20, in descending order\n"
        },
        {
            "cell_type": "code",
            "execution_count": 26,
            "id": "a1aecee7-7189-4189-9c74-c0808ac34cd6",
            "metadata": {},
            "outputs": [
                {
                    "name": "stdout",
                    "output_type": "stream",
                    "text": " * sqlite:///my_data1.db\nDone.\n"
                },
                {
                    "data": {
                        "text/html": "<table>\n    <tr>\n        <th>Date</th>\n        <th>Time (UTC)</th>\n        <th>Booster_Version</th>\n        <th>Launch_Site</th>\n        <th>Payload</th>\n        <th>PAYLOAD_MASS__KG_</th>\n        <th>Orbit</th>\n        <th>Customer</th>\n        <th>Mission_Outcome</th>\n        <th>Landing _Outcome</th>\n    </tr>\n    <tr>\n        <td>19-02-2017</td>\n        <td>14:39:00</td>\n        <td>F9 FT B1031.1</td>\n        <td>KSC LC-39A</td>\n        <td>SpaceX CRS-10</td>\n        <td>2490</td>\n        <td>LEO (ISS)</td>\n        <td>NASA (CRS)</td>\n        <td>Success</td>\n        <td>Success (ground pad)</td>\n    </tr>\n    <tr>\n        <td>18-10-2020</td>\n        <td>12:25:57</td>\n        <td>F9 B5 B1051.6</td>\n        <td>KSC LC-39A</td>\n        <td>Starlink 13 v1.0, Starlink 14 v1.0 </td>\n        <td>15600</td>\n        <td>LEO</td>\n        <td>SpaceX</td>\n        <td>Success</td>\n        <td>Success</td>\n    </tr>\n    <tr>\n        <td>18-08-2020</td>\n        <td>14:31:00</td>\n        <td>F9 B5 B1049.6</td>\n        <td>CCAFS SLC-40</td>\n        <td>Starlink 10 v1.0, SkySat-19, -20, -21, SAOCOM 1B </td>\n        <td>15440</td>\n        <td>LEO</td>\n        <td>SpaceX, Planet Labs, PlanetIQ</td>\n        <td>Success</td>\n        <td>Success</td>\n    </tr>\n    <tr>\n        <td>18-07-2016</td>\n        <td>04:45:00</td>\n        <td>F9 FT B1025.1</td>\n        <td>CCAFS LC-40</td>\n        <td>SpaceX CRS-9</td>\n        <td>2257</td>\n        <td>LEO (ISS)</td>\n        <td>NASA (CRS)</td>\n        <td>Success</td>\n        <td>Success (ground pad)</td>\n    </tr>\n    <tr>\n        <td>18-04-2018</td>\n        <td>22:51:00</td>\n        <td>F9 B4 B1045.1</td>\n        <td>CCAFS SLC-40</td>\n        <td>Transiting Exoplanet Survey Satellite (TESS)</td>\n        <td>362</td>\n        <td>HEO</td>\n        <td>NASA (LSP)</td>\n        <td>Success</td>\n        <td>Success (drone ship)</td>\n    </tr>\n    <tr>\n        <td>17-12-2019</td>\n        <td>00:10:00</td>\n        <td>F9 B5 B1056.3 </td>\n        <td>CCAFS SLC-40</td>\n        <td>JCSat-18 / Kacific 1, Starlink 2 v1.0 </td>\n        <td>6956</td>\n        <td>GTO</td>\n        <td>Sky Perfect JSAT, Kacific 1</td>\n        <td>Success</td>\n        <td>Success</td>\n    </tr>\n    <tr>\n        <td>16-11-2020</td>\n        <td>00:27:00</td>\n        <td>F9 B5B1061.1 </td>\n        <td>KSC LC-39A</td>\n        <td>Crew-1, Sentinel-6 Michael Freilich </td>\n        <td>12500</td>\n        <td>LEO (ISS)</td>\n        <td>NASA (CCP)</td>\n        <td>Success</td>\n        <td>Success</td>\n    </tr>\n    <tr>\n        <td>15-12-2017</td>\n        <td>15:36:00</td>\n        <td>F9 FT  B1035.2</td>\n        <td>CCAFS SLC-40</td>\n        <td>SpaceX CRS-13</td>\n        <td>2205</td>\n        <td>LEO (ISS)</td>\n        <td>NASA (CRS)</td>\n        <td>Success</td>\n        <td>Success (ground pad)</td>\n    </tr>\n    <tr>\n        <td>15-11-2018</td>\n        <td>20:46:00</td>\n        <td>F9 B5 B1047.2</td>\n        <td>KSC LC-39A</td>\n        <td>Es hail 2</td>\n        <td>5300</td>\n        <td>GTO</td>\n        <td>Es hailSat</td>\n        <td>Success</td>\n        <td>Success</td>\n    </tr>\n    <tr>\n        <td>14-08-2017</td>\n        <td>16:31:00</td>\n        <td>F9 B4 B1039.1</td>\n        <td>KSC LC-39A</td>\n        <td>SpaceX CRS-12</td>\n        <td>3310</td>\n        <td>LEO (ISS)</td>\n        <td>NASA (CRS)</td>\n        <td>Success</td>\n        <td>Success (ground pad)</td>\n    </tr>\n    <tr>\n        <td>14-08-2016</td>\n        <td>05:26:00</td>\n        <td>F9 FT B1026</td>\n        <td>CCAFS LC-40</td>\n        <td>JCSAT-16</td>\n        <td>4600</td>\n        <td>GTO</td>\n        <td>SKY Perfect JSAT Group</td>\n        <td>Success</td>\n        <td>Success (drone ship)</td>\n    </tr>\n    <tr>\n        <td>14-01-2017</td>\n        <td>17:54:00</td>\n        <td>F9 FT B1029.1</td>\n        <td>VAFB SLC-4E</td>\n        <td>Iridium NEXT 1</td>\n        <td>9600</td>\n        <td>Polar LEO</td>\n        <td>Iridium Communications</td>\n        <td>Success</td>\n        <td>Success (drone ship)</td>\n    </tr>\n    <tr>\n        <td>13-06-2020</td>\n        <td>09:21:00</td>\n        <td>F9 B5 B1059.3</td>\n        <td>CCAFS SLC-40</td>\n        <td>Starlink 8 v1.0, SkySats-16, -17, -18, GPS III-03 </td>\n        <td>15410</td>\n        <td>LEO</td>\n        <td>SpaceX, Planet Labs</td>\n        <td>Success</td>\n        <td>Success</td>\n    </tr>\n    <tr>\n        <td>12-06-2019</td>\n        <td>14:17:00</td>\n        <td>F9 B5 B1051.2 </td>\n        <td>VAFB SLC-4E</td>\n        <td>RADARSAT Constellation, SpaceX CRS-18 </td>\n        <td>4200</td>\n        <td>SSO</td>\n        <td>Canadian Space Agency (CSA)</td>\n        <td>Success</td>\n        <td>Success</td>\n    </tr>\n    <tr>\n        <td>11-11-2019</td>\n        <td>14:56:00</td>\n        <td>F9 B5 B1048.4</td>\n        <td>CCAFS SLC-40</td>\n        <td>Starlink 1 v1.0, SpaceX CRS-19 </td>\n        <td>15600</td>\n        <td>LEO</td>\n        <td>SpaceX</td>\n        <td>Success</td>\n        <td>Success</td>\n    </tr>\n    <tr>\n        <td>11-10-2017</td>\n        <td>22:53:00</td>\n        <td>F9 FT  B1031.2</td>\n        <td>KSC LC-39A</td>\n        <td>SES-11 / EchoStar 105</td>\n        <td>5200</td>\n        <td>GTO</td>\n        <td>SES EchoStar</td>\n        <td>Success</td>\n        <td>Success (drone ship)</td>\n    </tr>\n    <tr>\n        <td>11-05-2018</td>\n        <td>20:14:00</td>\n        <td>F9 B5  B1046.1</td>\n        <td>KSC LC-39A</td>\n        <td>Bangabandhu-1</td>\n        <td>3600</td>\n        <td>GTO</td>\n        <td>Thales-Alenia/BTRC</td>\n        <td>Success</td>\n        <td>Success (drone ship)</td>\n    </tr>\n    <tr>\n        <td>11-01-2019</td>\n        <td>15:31:00</td>\n        <td>F9 B5 B1049.2</td>\n        <td>VAFB SLC-4E</td>\n        <td>Iridium NEXT-8</td>\n        <td>9600</td>\n        <td>Polar LEO</td>\n        <td>Iridium Communications</td>\n        <td>Success</td>\n        <td>Success</td>\n    </tr>\n    <tr>\n        <td>10-09-2018</td>\n        <td>04:45:00</td>\n        <td>F9 B5B1049.1</td>\n        <td>CCAFS SLC-40</td>\n        <td>Telstar 18V / Apstar-5C</td>\n        <td>7060</td>\n        <td>GTO</td>\n        <td>Telesat</td>\n        <td>Success</td>\n        <td>Success</td>\n    </tr>\n    <tr>\n        <td>09-10-2017</td>\n        <td>12:37:00</td>\n        <td>F9 B4 B1041.1</td>\n        <td>VAFB SLC-4E</td>\n        <td>Iridium NEXT 3</td>\n        <td>9600</td>\n        <td>Polar LEO</td>\n        <td>Iridium Communications</td>\n        <td>Success</td>\n        <td>Success (drone ship)</td>\n    </tr>\n    <tr>\n        <td>08-10-2018</td>\n        <td>02:22:00</td>\n        <td>F9 B5 B1048.2</td>\n        <td>VAFB SLC-4E</td>\n        <td>SAOCOM 1A</td>\n        <td>3000</td>\n        <td>SSO</td>\n        <td>CONAE</td>\n        <td>Success</td>\n        <td>Success</td>\n    </tr>\n    <tr>\n        <td>08-04-2016</td>\n        <td>20:43:00</td>\n        <td>F9 FT B1021.1</td>\n        <td>CCAFS LC-40</td>\n        <td>SpaceX CRS-8</td>\n        <td>3136</td>\n        <td>LEO (ISS)</td>\n        <td>NASA (CRS)</td>\n        <td>Success</td>\n        <td>Success (drone ship)</td>\n    </tr>\n    <tr>\n        <td>08-01-2018</td>\n        <td>01:00:00</td>\n        <td>F9 B4 B1043.1</td>\n        <td>CCAFS SLC-40</td>\n        <td>Zuma</td>\n        <td>5000</td>\n        <td>LEO</td>\n        <td>Northrop Grumman</td>\n        <td>Success (payload status unclear)</td>\n        <td>Success (ground pad)</td>\n    </tr>\n    <tr>\n        <td>07-09-2017</td>\n        <td>14:00:00</td>\n        <td>F9 B4 B1040.1</td>\n        <td>KSC LC-39A</td>\n        <td>Boeing X-37B OTV-5</td>\n        <td>4990</td>\n        <td>LEO</td>\n        <td>U.S. Air Force</td>\n        <td>Success</td>\n        <td>Success (ground pad)</td>\n    </tr>\n    <tr>\n        <td>07-08-2020</td>\n        <td>05:12:00</td>\n        <td>F9 B5 B1051.5</td>\n        <td>KSC LC-39A</td>\n        <td>Starlink 9 v1.0, SXRS-1, Starlink 10 v1.0 </td>\n        <td>14932</td>\n        <td>LEO</td>\n        <td>SpaceX, Spaceflight Industries (BlackSky), Planet Labs</td>\n        <td>Success</td>\n        <td>Success</td>\n    </tr>\n    <tr>\n        <td>07-08-2018</td>\n        <td>05:18:00</td>\n        <td>F9 B5 B1046.2</td>\n        <td>CCAFS SLC-40</td>\n        <td>Merah Putih </td>\n        <td>5800</td>\n        <td>GTO</td>\n        <td>Telkom Indonesia</td>\n        <td>Success</td>\n        <td>Success</td>\n    </tr>\n    <tr>\n        <td>07-03-2020</td>\n        <td>04:50:00</td>\n        <td>F9 B5 B1059.2</td>\n        <td>CCAFS SLC-40</td>\n        <td>SpaceX CRS-20, Starlink 5 v1.0 </td>\n        <td>1977</td>\n        <td>LEO (ISS)</td>\n        <td>NASA (CRS)</td>\n        <td>Success</td>\n        <td>Success</td>\n    </tr>\n    <tr>\n        <td>07-01-2020</td>\n        <td>02:33:00</td>\n        <td>F9 B5 B1049.4</td>\n        <td>CCAFS SLC-40</td>\n        <td>Starlink 2 v1.0, Crew Dragon in-flight abort test </td>\n        <td>15600</td>\n        <td>LEO</td>\n        <td>SpaceX</td>\n        <td>Success</td>\n        <td>Success</td>\n    </tr>\n    <tr>\n        <td>06-12-2020</td>\n        <td>16:17:08</td>\n        <td>F9 B5 B1058.4 </td>\n        <td>KSC LC-39A</td>\n        <td>SpaceX CRS-21</td>\n        <td>2972</td>\n        <td>LEO (ISS)</td>\n        <td>NASA (CRS)</td>\n        <td>Success</td>\n        <td>Success</td>\n    </tr>\n    <tr>\n        <td>06-10-2020</td>\n        <td>11:29:34</td>\n        <td>F9 B5 B1058.3 </td>\n        <td>KSC LC-39A</td>\n        <td>Starlink 12 v1.0, Starlink 13 v1.0 </td>\n        <td>15600</td>\n        <td>LEO</td>\n        <td>SpaceX</td>\n        <td>Success</td>\n        <td>Success</td>\n    </tr>\n    <tr>\n        <td>06-05-2016</td>\n        <td>05:21:00</td>\n        <td>F9 FT B1022</td>\n        <td>CCAFS LC-40</td>\n        <td>JCSAT-14</td>\n        <td>4696</td>\n        <td>GTO</td>\n        <td>SKY Perfect JSAT Group</td>\n        <td>Success</td>\n        <td>Success (drone ship)</td>\n    </tr>\n    <tr>\n        <td>05-12-2019</td>\n        <td>17:29:00</td>\n        <td>F9 B5B1059.1</td>\n        <td>CCAFS SLC-40</td>\n        <td>SpaceX CRS-19, JCSat-18 / Kacific 1 </td>\n        <td>2617</td>\n        <td>LEO (ISS)</td>\n        <td>NASA (CRS), Kacific 1</td>\n        <td>Success</td>\n        <td>Success</td>\n    </tr>\n    <tr>\n        <td>05-11-2020</td>\n        <td>23:24:23</td>\n        <td>F9 B5B1062.1</td>\n        <td>CCAFS SLC-40</td>\n        <td>GPS III-04 , Crew-1</td>\n        <td>4311</td>\n        <td>MEO</td>\n        <td>USSF</td>\n        <td>Success</td>\n        <td>Success</td>\n    </tr>\n    <tr>\n        <td>04-06-2020</td>\n        <td>01:25:00</td>\n        <td>F9 B5 B1049.5</td>\n        <td>CCAFS SLC-40</td>\n        <td>Starlink 7 v1.0, Starlink 8 v1.0</td>\n        <td>15600</td>\n        <td>LEO</td>\n        <td>SpaceX, Planet Labs</td>\n        <td>Success</td>\n        <td>Success</td>\n    </tr>\n</table>",
                        "text/plain": "[('19-02-2017', '14:39:00', 'F9 FT B1031.1', 'KSC LC-39A', 'SpaceX CRS-10', 2490, 'LEO (ISS)', 'NASA (CRS)', 'Success', 'Success (ground pad)'),\n ('18-10-2020', '12:25:57', 'F9 B5 B1051.6', 'KSC LC-39A', 'Starlink 13 v1.0, Starlink 14 v1.0 ', 15600, 'LEO', 'SpaceX', 'Success', 'Success'),\n ('18-08-2020', '14:31:00', 'F9 B5 B1049.6', 'CCAFS SLC-40', 'Starlink 10 v1.0, SkySat-19, -20, -21, SAOCOM 1B ', 15440, 'LEO', 'SpaceX, Planet Labs, PlanetIQ', 'Success', 'Success'),\n ('18-07-2016', '04:45:00', 'F9 FT B1025.1', 'CCAFS LC-40', 'SpaceX CRS-9', 2257, 'LEO (ISS)', 'NASA (CRS)', 'Success', 'Success (ground pad)'),\n ('18-04-2018', '22:51:00', 'F9 B4 B1045.1', 'CCAFS SLC-40', 'Transiting Exoplanet Survey Satellite (TESS)', 362, 'HEO', 'NASA (LSP)', 'Success', 'Success (drone ship)'),\n ('17-12-2019', '00:10:00', 'F9 B5 B1056.3 ', 'CCAFS SLC-40', 'JCSat-18 / Kacific 1, Starlink 2 v1.0 ', 6956, 'GTO', 'Sky Perfect JSAT, Kacific 1', 'Success', 'Success'),\n ('16-11-2020', '00:27:00', 'F9 B5B1061.1 ', 'KSC LC-39A', 'Crew-1, Sentinel-6 Michael Freilich ', 12500, 'LEO (ISS)', 'NASA (CCP)', 'Success', 'Success'),\n ('15-12-2017', '15:36:00', 'F9 FT  B1035.2', 'CCAFS SLC-40', 'SpaceX CRS-13', 2205, 'LEO (ISS)', 'NASA (CRS)', 'Success', 'Success (ground pad)'),\n ('15-11-2018', '20:46:00', 'F9 B5 B1047.2', 'KSC LC-39A', 'Es hail 2', 5300, 'GTO', 'Es hailSat', 'Success', 'Success'),\n ('14-08-2017', '16:31:00', 'F9 B4 B1039.1', 'KSC LC-39A', 'SpaceX CRS-12', 3310, 'LEO (ISS)', 'NASA (CRS)', 'Success', 'Success (ground pad)'),\n ('14-08-2016', '05:26:00', 'F9 FT B1026', 'CCAFS LC-40', 'JCSAT-16', 4600, 'GTO', 'SKY Perfect JSAT Group', 'Success', 'Success (drone ship)'),\n ('14-01-2017', '17:54:00', 'F9 FT B1029.1', 'VAFB SLC-4E', 'Iridium NEXT 1', 9600, 'Polar LEO', 'Iridium Communications', 'Success', 'Success (drone ship)'),\n ('13-06-2020', '09:21:00', 'F9 B5 B1059.3', 'CCAFS SLC-40', 'Starlink 8 v1.0, SkySats-16, -17, -18, GPS III-03 ', 15410, 'LEO', 'SpaceX, Planet Labs', 'Success', 'Success'),\n ('12-06-2019', '14:17:00', 'F9 B5 B1051.2 ', 'VAFB SLC-4E', 'RADARSAT Constellation, SpaceX CRS-18 ', 4200, 'SSO', 'Canadian Space Agency (CSA)', 'Success', 'Success'),\n ('11-11-2019', '14:56:00', 'F9 B5 B1048.4', 'CCAFS SLC-40', 'Starlink 1 v1.0, SpaceX CRS-19 ', 15600, 'LEO', 'SpaceX', 'Success', 'Success'),\n ('11-10-2017', '22:53:00', 'F9 FT  B1031.2', 'KSC LC-39A', 'SES-11 / EchoStar 105', 5200, 'GTO', 'SES EchoStar', 'Success', 'Success (drone ship)'),\n ('11-05-2018', '20:14:00', 'F9 B5  B1046.1', 'KSC LC-39A', 'Bangabandhu-1', 3600, 'GTO', 'Thales-Alenia/BTRC', 'Success', 'Success (drone ship)'),\n ('11-01-2019', '15:31:00', 'F9 B5 B1049.2', 'VAFB SLC-4E', 'Iridium NEXT-8', 9600, 'Polar LEO', 'Iridium Communications', 'Success', 'Success'),\n ('10-09-2018', '04:45:00', 'F9 B5B1049.1', 'CCAFS SLC-40', 'Telstar 18V / Apstar-5C', 7060, 'GTO', 'Telesat', 'Success', 'Success'),\n ('09-10-2017', '12:37:00', 'F9 B4 B1041.1', 'VAFB SLC-4E', 'Iridium NEXT 3', 9600, 'Polar LEO', 'Iridium Communications', 'Success', 'Success (drone ship)'),\n ('08-10-2018', '02:22:00', 'F9 B5 B1048.2', 'VAFB SLC-4E', 'SAOCOM 1A', 3000, 'SSO', 'CONAE', 'Success', 'Success'),\n ('08-04-2016', '20:43:00', 'F9 FT B1021.1', 'CCAFS LC-40', 'SpaceX CRS-8', 3136, 'LEO (ISS)', 'NASA (CRS)', 'Success', 'Success (drone ship)'),\n ('08-01-2018', '01:00:00', 'F9 B4 B1043.1', 'CCAFS SLC-40', 'Zuma', 5000, 'LEO', 'Northrop Grumman', 'Success (payload status unclear)', 'Success (ground pad)'),\n ('07-09-2017', '14:00:00', 'F9 B4 B1040.1', 'KSC LC-39A', 'Boeing X-37B OTV-5', 4990, 'LEO', 'U.S. Air Force', 'Success', 'Success (ground pad)'),\n ('07-08-2020', '05:12:00', 'F9 B5 B1051.5', 'KSC LC-39A', 'Starlink 9 v1.0, SXRS-1, Starlink 10 v1.0 ', 14932, 'LEO', 'SpaceX, Spaceflight Industries (BlackSky), Planet Labs', 'Success', 'Success'),\n ('07-08-2018', '05:18:00', 'F9 B5 B1046.2', 'CCAFS SLC-40', 'Merah Putih ', 5800, 'GTO', 'Telkom Indonesia', 'Success', 'Success'),\n ('07-03-2020', '04:50:00', 'F9 B5 B1059.2', 'CCAFS SLC-40', 'SpaceX CRS-20, Starlink 5 v1.0 ', 1977, 'LEO (ISS)', 'NASA (CRS)', 'Success', 'Success'),\n ('07-01-2020', '02:33:00', 'F9 B5 B1049.4', 'CCAFS SLC-40', 'Starlink 2 v1.0, Crew Dragon in-flight abort test ', 15600, 'LEO', 'SpaceX', 'Success', 'Success'),\n ('06-12-2020', '16:17:08', 'F9 B5 B1058.4 ', 'KSC LC-39A', 'SpaceX CRS-21', 2972, 'LEO (ISS)', 'NASA (CRS)', 'Success', 'Success'),\n ('06-10-2020', '11:29:34', 'F9 B5 B1058.3 ', 'KSC LC-39A', 'Starlink 12 v1.0, Starlink 13 v1.0 ', 15600, 'LEO', 'SpaceX', 'Success', 'Success'),\n ('06-05-2016', '05:21:00', 'F9 FT B1022', 'CCAFS LC-40', 'JCSAT-14', 4696, 'GTO', 'SKY Perfect JSAT Group', 'Success', 'Success (drone ship)'),\n ('05-12-2019', '17:29:00', 'F9 B5B1059.1', 'CCAFS SLC-40', 'SpaceX CRS-19, JCSat-18 / Kacific 1 ', 2617, 'LEO (ISS)', 'NASA (CRS), Kacific 1', 'Success', 'Success'),\n ('05-11-2020', '23:24:23', 'F9 B5B1062.1', 'CCAFS SLC-40', 'GPS III-04 , Crew-1', 4311, 'MEO', 'USSF', 'Success', 'Success'),\n ('04-06-2020', '01:25:00', 'F9 B5 B1049.5', 'CCAFS SLC-40', 'Starlink 7 v1.0, Starlink 8 v1.0', 15600, 'LEO', 'SpaceX, Planet Labs', 'Success', 'Success')]"
                    },
                    "execution_count": 26,
                    "metadata": {},
                    "output_type": "execute_result"
                }
            ],
            "source": "%sql SELECT * FROM SPACEXTBL WHERE \"Landing _Outcome\" LIKE 'Success%' AND (Date BETWEEN '04-06-2010' AND '20-03-2017') ORDER BY Date DESC;"
        },
        {
            "cell_type": "code",
            "execution_count": 27,
            "metadata": {},
            "outputs": [
                {
                    "name": "stdout",
                    "output_type": "stream",
                    "text": " * sqlite:///my_data1.db\nDone.\n"
                },
                {
                    "data": {
                        "text/html": "<table>\n    <tr>\n        <th>Launch_Site</th>\n    </tr>\n    <tr>\n        <td>CCAFS LC-40</td>\n    </tr>\n    <tr>\n        <td>VAFB SLC-4E</td>\n    </tr>\n    <tr>\n        <td>KSC LC-39A</td>\n    </tr>\n    <tr>\n        <td>CCAFS SLC-40</td>\n    </tr>\n</table>",
                        "text/plain": "[('CCAFS LC-40',), ('VAFB SLC-4E',), ('KSC LC-39A',), ('CCAFS SLC-40',)]"
                    },
                    "execution_count": 27,
                    "metadata": {},
                    "output_type": "execute_result"
                }
            ],
            "source": "%sql SELECT DISTINCT Launch_Site FROM SPACEXTBL;"
        },
        {
            "cell_type": "markdown",
            "id": "07c75a47-4b2b-4dba-a09d-2890d61169ca",
            "metadata": {},
            "source": "### Reference Links\n\n* <a href =\"https://cf-courses-data.s3.us.cloud-object-storage.appdomain.cloud/IBMDeveloperSkillsNetwork-DB0201EN-SkillsNetwork/labs/Labs_Coursera_V5/labs/Lab%20-%20String%20Patterns%20-%20Sorting%20-%20Grouping/instructional-labs.md.html?origin=www.coursera.org\">Hands-on Lab : String Patterns, Sorting and Grouping</a>  \n\n*  <a  href=\"https://cf-courses-data.s3.us.cloud-object-storage.appdomain.cloud/IBMDeveloperSkillsNetwork-DB0201EN-SkillsNetwork/labs/Labs_Coursera_V5/labs/Lab%20-%20Built-in%20functions%20/Hands-on_Lab__Built-in_Functions.md.html?origin=www.coursera.org\">Hands-on Lab: Built-in functions</a>\n\n*  <a  href=\"https://cf-courses-data.s3.us.cloud-object-storage.appdomain.cloud/IBMDeveloperSkillsNetwork-DB0201EN-SkillsNetwork/labs/Labs_Coursera_V5/labs/Lab%20-%20Sub-queries%20and%20Nested%20SELECTs%20/instructional-labs.md.html?origin=www.coursera.org\">Hands-on Lab : Sub-queries and Nested SELECT Statements</a>\n\n*   <a href=\"https://cf-courses-data.s3.us.cloud-object-storage.appdomain.cloud/IBMDeveloperSkillsNetwork-DB0201EN-SkillsNetwork/labs/Module%205/DB0201EN-Week3-1-3-SQLmagic.ipynb\">Hands-on Tutorial: Accessing Databases with SQL magic</a>\n\n*  <a href= \"https://cf-courses-data.s3.us.cloud-object-storage.appdomain.cloud/IBMDeveloperSkillsNetwork-DB0201EN-SkillsNetwork/labs/Module%205/DB0201EN-Week3-1-4-Analyzing.ipynb\">Hands-on Lab: Analyzing a real World Data Set</a>\n\n\n"
        },
        {
            "cell_type": "markdown",
            "id": "76a8e6fb-7dfe-4e28-ab8e-c240920ae1d3",
            "metadata": {},
            "source": "## Author(s)\n\n<h4> Lakshmi Holla </h4>\n"
        },
        {
            "cell_type": "markdown",
            "id": "5b99ecdf-6aa7-4cca-b6fc-bbc01e78f553",
            "metadata": {},
            "source": "## Other Contributors\n\n<h4> Rav Ahuja </h4>\n"
        },
        {
            "cell_type": "markdown",
            "id": "b0f48c22-b195-4751-9638-48a6e6948a22",
            "metadata": {},
            "source": "## Change log\n| Date | Version | Changed by | Change Description |\n|------|--------|--------|---------|\n| 2021-10-12 | 0.4 |Lakshmi Holla | Changed markdown|\n| 2021-08-24 | 0.3 |Lakshmi Holla | Added library update|\n| 2021-07-09 | 0.2 |Lakshmi Holla | Changes made in magic sql|\n| 2021-05-20 | 0.1 |Lakshmi Holla | Created Initial Version |\n"
        },
        {
            "cell_type": "markdown",
            "id": "04d29bb5-339b-4842-b38c-af6de62d5ad5",
            "metadata": {},
            "source": "## <h3 align=\"center\"> \u00a9 IBM Corporation 2021. All rights reserved. <h3/>\n"
        }
    ],
    "metadata": {
        "kernelspec": {
            "display_name": "Python 3.10",
            "language": "python",
            "name": "python3"
        },
        "language_info": {
            "codemirror_mode": {
                "name": "ipython",
                "version": 3
            },
            "file_extension": ".py",
            "mimetype": "text/x-python",
            "name": "python",
            "nbconvert_exporter": "python",
            "pygments_lexer": "ipython3",
            "version": "3.10.9"
        }
    },
    "nbformat": 4,
    "nbformat_minor": 4
}